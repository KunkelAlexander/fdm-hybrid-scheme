{
 "cells": [
  {
   "cell_type": "code",
   "execution_count": 2,
   "metadata": {},
   "outputs": [],
   "source": [
    "import scipy\n",
    "import numpy as np \n",
    "import matplotlib.pyplot as plt "
   ]
  },
  {
   "cell_type": "code",
   "execution_count": 6,
   "metadata": {},
   "outputs": [
    {
     "name": "stdout",
     "output_type": "stream",
     "text": [
      "[1. 1. 1. 1. 1. 1. 1. 1. 1. 1. 1. 1. 1. 1. 1. 1. 1. 1. 1. 1. 1. 1. 1. 1.\n",
      " 1. 1. 1. 1. 1. 1. 1. 1.]\n",
      "[0.+0.j 0.+0.j 0.+0.j 0.+0.j 0.+0.j 0.+0.j 0.+0.j 0.+0.j 0.+0.j 0.+0.j\n",
      " 0.+0.j 0.+0.j 0.+0.j 0.+0.j 0.+0.j 0.+0.j 0.+0.j 0.+0.j 0.+0.j 0.+0.j\n",
      " 0.+0.j 0.+0.j 0.+0.j 0.+0.j 0.+0.j 0.+0.j 0.+0.j 0.+0.j 0.+0.j 0.+0.j\n",
      " 0.+0.j 0.+0.j]\n"
     ]
    }
   ],
   "source": [
    "f = np.random.rand(32) * 1e-20 + 1\n",
    "\n",
    "print(f) \n",
    "\n",
    "for i in range(1000): \n",
    "    fhat = scipy.fft.fft(f) \n",
    "    f = scipy.fft.ifft(fhat) \n",
    "\n",
    "print(f - 1)"
   ]
  },
  {
   "cell_type": "code",
   "execution_count": null,
   "metadata": {},
   "outputs": [],
   "source": [
    "\n",
    "\n",
    "from chebfftPy import chebfft\n",
    "\n",
    "def cheby_exgrid(N,a,b):\n",
    "    i=np.linspace(0,N,N+1)\n",
    "    return (b-a)/2.*(-np.cos(i*np.pi/N))+(b+a)/2.0\n",
    "\n",
    "def cheby_poly(x,n):\n",
    "    T0 = 1.0\n",
    "    T1 = x\n",
    "    if n == 0:\n",
    "        return  T0\n",
    "    elif n == 1:\n",
    "        return  T1\n",
    "    elif n > 1:\n",
    "        for i in range(n-1):\n",
    "            T = 2*x*T1-T0 \n",
    "            T0 = T1\n",
    "            T1 = T\n",
    "        return T\n",
    "\n",
    "def cheby_coeff(x,y,N):\n",
    "    a = []\n",
    "    y[0] *= 0.5\n",
    "    y[N] *= 0.5\n",
    "\n",
    "    x_chebgrid = cheby_exgrid(N,-1.0,1.0)\n",
    "    print(x,x_chebgrid)\n",
    "    for j in range(N+1):\n",
    "        sum = 2.0 / N  * np.sum(y*cheby_poly(x_chebgrid,j))\n",
    "        a.append(sum)\n",
    "\n",
    "    y[0] /= 0.5\n",
    "    y[N] /= 0.5\n",
    "    return a\n",
    "\n",
    "def cheby_interp(x,coeff,N,a,b):\n",
    "\n",
    "    x_chebgrid = ( 2.0 * x - a  - b ) / ( b-a);\n",
    "    sum  = coeff[0]*cheby_poly(x_chebgrid,0) * 0.5    \n",
    "    for j in range(1,N-1):\n",
    "        sum += coeff[j]*cheby_poly(x_chebgrid,j)\n",
    "    sum += coeff[N]*cheby_poly(x_chebgrid,N) * 0.5\n",
    "    return sum\n",
    "\n",
    "\n",
    "'''\n",
    "f = np.loadtxt('test')[:,[0,1]]\n",
    "\n",
    "plt.plot(f)\n",
    "plt.show()\n",
    "N = np.shape(f)[0]-1\n",
    "\n",
    "xx     = cheby_exgrid(40,f[0,0],f[-1,0])\n",
    "coeff  = cheby_coeff (f[:,0],f[:,1],N)\n",
    "interp = cheby_interp(xx,coeff,N,f[0,0],f[-1,0])\n",
    "\n",
    "print( cheby_interp(0.504897,coeff,N,f[0,0],f[-1,0]))\n",
    "plt.plot(f[:,0],f[:,1],'>',xx,interp,'.')\n",
    "plt.show()\n",
    "'''\n",
    "# test it with sin(x)\n",
    "# a = 1.\n",
    "# b = 2.\n",
    "# x = cheby_exgrid(N,a,b)\n",
    "# f = np.sin(5.*x)\n",
    "# xx = np.linspace(a,b,11)\n",
    "\n",
    "# coeff = cheby_coeff(x,f,N)\n",
    "# interp =  cheby_interp(xx,coeff,N,a,b)\n",
    "# plt.plot(x,f,'-',xx,interp,'.')\n",
    "# plt.show()\n"
   ]
  },
  {
   "cell_type": "code",
   "execution_count": null,
   "metadata": {},
   "outputs": [],
   "source": [
    "\n",
    "from chebfftPy import chebfft\n",
    "\n",
    "class ChebyshevScheme(Scheme):\n",
    "    "
   ]
  }
 ],
 "metadata": {
  "kernelspec": {
   "display_name": "Python 3",
   "language": "python",
   "name": "python3"
  },
  "language_info": {
   "codemirror_mode": {
    "name": "ipython",
    "version": 3
   },
   "file_extension": ".py",
   "mimetype": "text/x-python",
   "name": "python",
   "nbconvert_exporter": "python",
   "pygments_lexer": "ipython3",
   "version": "3.8.10"
  },
  "orig_nbformat": 4,
  "vscode": {
   "interpreter": {
    "hash": "916dbcbb3f70747c44a77c7bcd40155683ae19c65e1c03b4aa3499c5328201f1"
   }
  }
 },
 "nbformat": 4,
 "nbformat_minor": 2
}
