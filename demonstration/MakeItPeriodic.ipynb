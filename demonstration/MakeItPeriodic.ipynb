{
 "cells": [
  {
   "cell_type": "code",
   "execution_count": null,
   "metadata": {},
   "outputs": [],
   "source": [
    "import numpy as np \n",
    "import scipy \n",
    "\n",
    "def make_plane_wave_superposition(x, f, bc_type): \n",
    "    N          = len(bc_type[0]) + 1\n",
    "    x         = np.zeros(2 * N) #First N coeffs are amplitudes, second N coeffs are momenta\n",
    "\n",
    "    def operator(x): \n",
    "        amplitudes = x[  : N]\n",
    "        momenta    = x[N :  ]\n",
    "        A          = np.zeros(2 * N, N) \n",
    "        for j in range(N): \n",
    "            A[2 * j    , :] = amplitudes * (1j * momenta)**j * np.exp(1j * momenta * x[0])\n",
    "            A[2 * j + 1, :] = amplitudes * (1j * momenta)**j * np.exp(1j * momenta * x[1])\n",
    "\n",
    "    b          = np.zeros(2 * N) \n",
    "    b[0] = f[0]\n",
    "    b[1] = f[1] \n",
    "    for j in range(1, N): \n",
    "        b[2 * j    ] = bc_type[0][j-1][1]\n",
    "        b[2 * j + 1] = bc_type[1][j-1][1]\n",
    "\n",
    "\n",
    "class gmres_counter(object):\n",
    "    def __init__(self, disp=True):\n",
    "        self._disp = disp\n",
    "        self.niter = 0\n",
    "    def __call__(self, rk=None):\n",
    "        self.niter += 1\n",
    "        if self._disp:\n",
    "            print('iter %3i\\trk = %s' % (self.niter, str(rk)))\n",
    "\n",
    "while t < tend:\n",
    "\n",
    "    def LapOperator(psihat):\n",
    "        Lhat    = 0.5 * psihat * k**2\n",
    "        return Lhat\n",
    "\n",
    "    def leftOperator(psihat):\n",
    "        return 1j / dt * psihat - 0.5 * LapOperator(psihat)\n",
    "    \n",
    "    def rightOperator(psi):\n",
    "        return 1j / dt * psihat + 0.5 * LapOperator(psihat)\n",
    "\n",
    "    def preconditioner(psihat):\n",
    "        return 1/(1j / dt - 0.25 * k**2) * psihat\n",
    "\n",
    "    psihat  = scipy.fft.fft(psi)\n",
    "    \n",
    "    A       = LinearOperator((N_PML, N_PML), matvec =  leftOperator)\n",
    "    M       = LinearOperator((N_PML, N_PML), matvec =  preconditioner)\n",
    "    b       = rightOperator(psihat)\n",
    "\n",
    "    counter = gmres_counter()\n",
    "    psihat, exitCode = gmres(A,  b, tol=1e-15, M = M)#, callback=counter) "
   ]
  }
 ],
 "metadata": {
  "kernelspec": {
   "display_name": "Python 3",
   "language": "python",
   "name": "python3"
  },
  "language_info": {
   "name": "python",
   "version": "3.8.10"
  },
  "orig_nbformat": 4,
  "vscode": {
   "interpreter": {
    "hash": "916dbcbb3f70747c44a77c7bcd40155683ae19c65e1c03b4aa3499c5328201f1"
   }
  }
 },
 "nbformat": 4,
 "nbformat_minor": 2
}
