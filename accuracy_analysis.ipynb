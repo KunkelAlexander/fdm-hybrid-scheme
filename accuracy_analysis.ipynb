{
 "cells": [
  {
   "cell_type": "markdown",
   "metadata": {},
   "source": [
    "# Analyse accuracy of Schroedinger-schemes"
   ]
  },
  {
   "cell_type": "code",
   "execution_count": 5,
   "metadata": {},
   "outputs": [],
   "source": [
    "from IPython.display import display, Markdown, Latex \n",
    "\n",
    "%run sps_test_suite.py"
   ]
  },
  {
   "cell_type": "code",
   "execution_count": 6,
   "metadata": {},
   "outputs": [],
   "source": [
    "def analyseError(\n",
    "    solver,\n",
    "    config,\n",
    "    generateIC,\n",
    "    analyticalSolution,\n",
    "    N=5,\n",
    "    increaseSpatialResolution = 2, \n",
    "    increaseTemporalResolution = 1, \n",
    "    debug=False,\n",
    "    waveScheme = None, \n",
    "    advection = False,\n",
    "    potential = None,\n",
    "):\n",
    "    NX = config[\"resolution\"]\n",
    "    L = config[\"domainSize\"]\n",
    "    tEnd = config[\"tEnd\"]\n",
    "    dx = L / NX\n",
    "    dt = config[\"dt\"]\n",
    "    error = np.zeros(N)\n",
    "\n",
    "    resolutions = []\n",
    "    average_timesteps = []\n",
    "\n",
    "    for i in range(N):\n",
    "        config[\"resolution\"] = NX\n",
    "        config[\"dt\"]         = dt\n",
    "        sol = solver(config, generateIC)\n",
    "        sol.setExternalPotentialFunction(potential)\n",
    "        if waveScheme is not None:\n",
    "            wavesolver = waveScheme(config, generateIC)\n",
    "            wavesolver.setExternalPotentialFunction(potential)\n",
    "        else:\n",
    "            wavesolver = None \n",
    "\n",
    "        dx = sol.dx \n",
    "        nt = 0\n",
    "        timesteps = []\n",
    "        while sol.getTime() < tEnd:\n",
    "            delt = sol.getTimeStep()\n",
    "            timesteps.append(delt)\n",
    "            sol.step(delt)\n",
    "\n",
    "            nt += 1\n",
    "            if waveScheme is not None:\n",
    "                wavesolver.step(delt)\n",
    "\n",
    "        if waveScheme is None:\n",
    "            if advection:\n",
    "                ana, _  = analyticalSolution(*sol.grid, sol.dx, sol.t)\n",
    "            else:\n",
    "                ana = np.abs(analyticalSolution(*sol.grid, sol.dx, sol.t)) ** 2\n",
    "        else:\n",
    "            ana = np.abs(wavesolver.getPsi())**2\n",
    "\n",
    "        num = sol.getDensity()\n",
    "\n",
    "        error[i] = np.mean(np.abs(num - ana))\n",
    "        resolutions.append(dx)\n",
    "        average_timesteps.append(np.mean(timesteps))\n",
    "\n",
    "\n",
    "        if debug:\n",
    "            print(\"dx \", dx, \" dt \", np.mean(timesteps))\n",
    "            print(\"error [i]: \", i, error[i])\n",
    "            animation.drawFrame(sol, waveSolver = wavesolver)\n",
    "            plt.show()\n",
    "\n",
    "        NX *= increaseSpatialResolution\n",
    "        NX = int(NX)\n",
    "        dt /= increaseTemporalResolution\n",
    "            \n",
    "    return error, resolutions, average_timesteps\n"
   ]
  },
  {
   "cell_type": "code",
   "execution_count": 14,
   "metadata": {},
   "outputs": [
    {
     "data": {
      "text/markdown": [
       "# Test: periodic gaussian wave packet"
      ],
      "text/plain": [
       "<IPython.core.display.Markdown object>"
      ]
     },
     "metadata": {},
     "output_type": "display_data"
    },
    {
     "name": "stdout",
     "output_type": "stream",
     "text": [
      "Constructing muscl-upwind scheme scheme\n",
      "Setting up fourier grid\n",
      "Constructing muscl-upwind scheme scheme\n",
      "Setting up fourier grid\n",
      "Constructing muscl-upwind scheme scheme\n",
      "Setting up fourier grid\n",
      "Constructing muscl-upwind scheme scheme\n",
      "Setting up fourier grid\n",
      "data/truncation_error_periodic_gaussian_wave_packet_phase-ho-upwind_mc.npz\n",
      "Constructing muscl-upwind scheme scheme\n",
      "Setting up fourier grid\n",
      "Constructing muscl-upwind scheme scheme\n",
      "Setting up fourier grid\n",
      "Constructing muscl-upwind scheme scheme\n",
      "Setting up fourier grid\n",
      "Constructing muscl-upwind scheme scheme\n",
      "Setting up fourier grid\n",
      "data/truncation_error_periodic_gaussian_wave_packet_phase-ho-upwind_albada.npz\n",
      "Constructing muscl-upwind scheme scheme\n",
      "Setting up fourier grid\n",
      "Constructing muscl-upwind scheme scheme\n",
      "Setting up fourier grid\n",
      "Constructing muscl-upwind scheme scheme\n",
      "Setting up fourier grid\n",
      "Constructing muscl-upwind scheme scheme\n",
      "Setting up fourier grid\n",
      "data/truncation_error_periodic_gaussian_wave_packet_phase-ho-upwind_leer.npz\n",
      "Constructing muscl-upwind scheme scheme\n",
      "Setting up fourier grid\n",
      "Constructing muscl-upwind scheme scheme\n",
      "Setting up fourier grid\n",
      "Constructing muscl-upwind scheme scheme\n",
      "Setting up fourier grid\n",
      "Constructing muscl-upwind scheme scheme\n",
      "Setting up fourier grid\n",
      "data/truncation_error_periodic_gaussian_wave_packet_phase-ho-upwind.npz\n"
     ]
    },
    {
     "data": {
      "text/markdown": [
       "# Test: perturbation wave"
      ],
      "text/plain": [
       "<IPython.core.display.Markdown object>"
      ]
     },
     "metadata": {},
     "output_type": "display_data"
    },
    {
     "name": "stdout",
     "output_type": "stream",
     "text": [
      "tEnd 0.3183098861837907\n",
      "Constructing muscl-upwind scheme scheme\n",
      "Setting up fourier grid\n",
      "Constructing muscl-upwind scheme scheme\n",
      "Setting up fourier grid\n",
      "Constructing muscl-upwind scheme scheme\n",
      "Setting up fourier grid\n",
      "Constructing muscl-upwind scheme scheme\n",
      "Setting up fourier grid\n",
      "data/truncation_error_perturbation_wave_phase-ho-upwind_mc.npz\n",
      "tEnd 0.3183098861837907\n",
      "Constructing muscl-upwind scheme scheme\n",
      "Setting up fourier grid\n",
      "Constructing muscl-upwind scheme scheme\n",
      "Setting up fourier grid\n",
      "Constructing muscl-upwind scheme scheme\n",
      "Setting up fourier grid\n",
      "Constructing muscl-upwind scheme scheme\n",
      "Setting up fourier grid\n",
      "data/truncation_error_perturbation_wave_phase-ho-upwind_albada.npz\n",
      "tEnd 0.3183098861837907\n",
      "Constructing muscl-upwind scheme scheme\n",
      "Setting up fourier grid\n",
      "Constructing muscl-upwind scheme scheme\n",
      "Setting up fourier grid\n",
      "Constructing muscl-upwind scheme scheme\n",
      "Setting up fourier grid\n",
      "Constructing muscl-upwind scheme scheme\n",
      "Setting up fourier grid\n"
     ]
    }
   ],
   "source": [
    "N = 4\n",
    "#test_names_1d  = ['accuracy test']\n",
    "test_names  = ['periodic gaussian wave packet', 'perturbation wave']\n",
    "\n",
    "schemes_for_accuracy_test = [\"phase-ho-upwind_mc\", \"phase-ho-upwind_albada\", \"phase-ho-upwind_leer\", \"phase-ho-upwind\"]\n",
    "advection  = False\n",
    "waveScheme = None # wave_schemes.SpectralScheme\n",
    "\n",
    "increaseSpatialResolution  = 1.6\n",
    "increaseTemporalResolution = 1 \n",
    "suffix = \"\"\n",
    "plotRuns = False\n",
    "\n",
    "for test_name in test_names:\n",
    "    test, testConfig, potential = test_list[test_name]\n",
    "\n",
    "    display(Markdown('#' + \" Test: \" + test_name))\n",
    "\n",
    "    truncations_errors = {}\n",
    "\n",
    "    for scheme_name in schemes_for_accuracy_test:\n",
    "        scheme, schemeConfig = scheme_list[scheme_name]\n",
    "\n",
    "        c = getBaseConfig()\n",
    "        testConfig(c)\n",
    "        schemeConfig(c)\n",
    "        c[\"stencilOrder\"] = 2\n",
    "\n",
    "        p, dx, dt = analyseError(\n",
    "            scheme,\n",
    "            c,\n",
    "            test,\n",
    "            test,\n",
    "            N=N,\n",
    "            increaseTemporalResolution = increaseTemporalResolution, \n",
    "            increaseSpatialResolution = increaseSpatialResolution,\n",
    "            debug=plotRuns,\n",
    "            waveScheme= waveScheme,\n",
    "            advection = advection,\n",
    "            potential = potential\n",
    "        )\n",
    "\n",
    "        truncations_errors[scheme_name] = {\n",
    "            \"errors\": p,\n",
    "            \"dx\": dx,\n",
    "            \"dt\": dt\n",
    "        }\n",
    "        filename = \"data/truncation_error_\" + test_name.replace(\" \", \"_\") + \"_\" + scheme_name.replace(\" \", \"_\") + suffix + \".npz\"\n",
    "        print(filename)\n",
    "        np.savez(filename, **(truncations_errors[scheme_name]))"
   ]
  },
  {
   "cell_type": "code",
   "execution_count": null,
   "metadata": {},
   "outputs": [],
   "source": []
  }
 ],
 "metadata": {
  "interpreter": {
   "hash": "08b1f50251748813e8e4e957e5d4f88f45c66f447650e6e648281d4af27bdb44"
  },
  "kernelspec": {
   "display_name": "Python 3.8.8 ('base')",
   "language": "python",
   "name": "python3"
  },
  "language_info": {
   "codemirror_mode": {
    "name": "ipython",
    "version": 3
   },
   "file_extension": ".py",
   "mimetype": "text/x-python",
   "name": "python",
   "nbconvert_exporter": "python",
   "pygments_lexer": "ipython3",
   "version": "3.8.8"
  },
  "orig_nbformat": 4
 },
 "nbformat": 4,
 "nbformat_minor": 2
}
