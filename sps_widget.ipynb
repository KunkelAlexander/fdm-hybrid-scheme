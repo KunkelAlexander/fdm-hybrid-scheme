{
 "cells": [
  {
   "cell_type": "markdown",
   "metadata": {},
   "source": [
    "# Schrödinger equation"
   ]
  },
  {
   "cell_type": "markdown",
   "metadata": {},
   "source": [
    "Run setup cell; then pick a scheme and run the second cell to interact with the simulation."
   ]
  },
  {
   "cell_type": "markdown",
   "metadata": {},
   "source": [
    "### Setup"
   ]
  },
  {
   "cell_type": "code",
   "execution_count": 1,
   "metadata": {},
   "outputs": [],
   "source": [
    "from __future__ import print_function\n",
    "%matplotlib inline\n",
    "\n",
    "from ipywidgets import interact, interactive, fixed, interact_manual\n",
    "import ipywidgets as widgets"
   ]
  },
  {
   "cell_type": "markdown",
   "metadata": {},
   "source": [
    "### Pick a scheme and a test\n",
    "Slide time slider for plot to appear. Pick scheme to reset. Resolution of $1$ corresponds to standard settings. All changes relative.\n",
    "Not all schemes and parameter combinations are stable. \n",
    "\n",
    "**Slide time slider carefully**. "
   ]
  },
  {
   "cell_type": "code",
   "execution_count": 3,
   "metadata": {},
   "outputs": [
    {
     "data": {
      "application/vnd.jupyter.widget-view+json": {
       "model_id": "60056ca85e1e4b22a7df3a9d178084d0",
       "version_major": 2,
       "version_minor": 0
      },
      "text/plain": [
       "HBox(children=(Dropdown(description='pick scheme', index=4, options=('phase scheme', 'phase scheme without qua…"
      ]
     },
     "metadata": {},
     "output_type": "display_data"
    },
    {
     "data": {
      "application/vnd.jupyter.widget-view+json": {
       "model_id": "7317fadf567044b285da242c93c0ea56",
       "version_major": 2,
       "version_minor": 0
      },
      "text/plain": [
       "Output()"
      ]
     },
     "metadata": {},
     "output_type": "display_data"
    },
    {
     "data": {
      "application/vnd.jupyter.widget-view+json": {
       "model_id": "aab3abb24a6744958e7c320c0274dd98",
       "version_major": 2,
       "version_minor": 0
      },
      "text/plain": [
       "Output(layout=Layout(height='500px'))"
      ]
     },
     "metadata": {},
     "output_type": "display_data"
    },
    {
     "data": {
      "application/vnd.jupyter.widget-view+json": {
       "model_id": "f594c62091db4ca1a23deadb091ab358",
       "version_major": 2,
       "version_minor": 0
      },
      "text/plain": [
       "HBox(children=(FloatSlider(value=0.0, description='t', max=200.0, step=1.0),))"
      ]
     },
     "metadata": {},
     "output_type": "display_data"
    }
   ],
   "source": [
    "%run src/sps_test_suite.py\n",
    "\n",
    "def pick_scheme(scheme_name, test_name, resolution, eta):\n",
    "    global solver, wsolver \n",
    "    c = getBaseConfig()\n",
    "    test, testConfig, potential = test_list[nice_test_list[test_name]]\n",
    "    scheme, schemeConfig = scheme_list[nice_scheme_list[scheme_name]]\n",
    "    schemeConfig(c)\n",
    "    testConfig(c)\n",
    "\n",
    "    c[\"resolution\"] = int(c[\"resolution\"] * resolution)\n",
    "    c[\"dpi\"] = 200\n",
    "    c[\"figsize\"] = [3.54, 2.54]\n",
    "    c[\"plotDebug\"] = False\n",
    "    c[\"hbar\"] = eta \n",
    "    c[\"m\"] = 1\n",
    "\n",
    "    solver = scheme(c, test)\n",
    "    solver.setExternalPotentialFunction(potential)\n",
    "    wsolver = wave_schemes.SpectralScheme(c, test)\n",
    "    wsolver.setExternalPotentialFunction(potential)\n",
    "\n",
    "a = widgets.Dropdown(description=\"pick scheme\",  value = \"hybrid scheme\", options = nice_scheme_list.keys())\n",
    "b = widgets.Dropdown(description=\"pick test\", value = \"cosmo with gravity (2D)\", options = nice_test_list.keys())\n",
    "c = widgets.FloatSlider(description=\"resolution\", min=.1, max=4, step=.1, value=1)\n",
    "d = widgets.FloatSlider(description=\"eta\", min=.25, max=4, step=.05, value=1)\n",
    "ui = widgets.HBox([a, b, c, d])\n",
    "\n",
    "scheme_picker = widgets.interactive_output(pick_scheme, {'scheme_name': a, 'test_name': b, 'resolution': c, 'eta' : d})\n",
    "\n",
    "display(ui, scheme_picker)\n",
    "\n",
    "def run(t):\n",
    "    global solver, wsolver \n",
    "\n",
    "    solver.tEnd = solver.config[\"tEnd\"] * t/100\n",
    "    wsolver.tEnd = solver.tEnd\n",
    "    solver.config[\"savePlots\"] = False\n",
    "\n",
    "    if solver.dimension == 1:\n",
    "        solver.config[\"dpi\"] = 100\n",
    "    else:\n",
    "        solver.config[\"dpi\"] = 200\n",
    "\n",
    "    if solver.dimension == 1:\n",
    "        solver.run()\n",
    "        animation.drawFrame(solver)\n",
    "    else:\n",
    "        solver.config[\"plotTime\"] = False \n",
    "        solver.run()\n",
    "        wsolver.run()\n",
    "        animation.drawFrame(solver, waveSolver=wsolver)\n",
    "\n",
    "    plt.show()\n",
    "\n",
    "\n",
    "interactive_plot= interactive(run,\n",
    "t=widgets.FloatSlider(min=0, max=200, step=1, value=0),\n",
    ")\n",
    "\n",
    "\n",
    "output = interactive_plot.children[-1]\n",
    "output.layout.height = '500px'\n",
    "buttons = widgets.HBox(interactive_plot.children[:-1])\n",
    "display(output)\n",
    "display(buttons)\n"
   ]
  }
 ],
 "metadata": {
  "interpreter": {
   "hash": "08b1f50251748813e8e4e957e5d4f88f45c66f447650e6e648281d4af27bdb44"
  },
  "kernelspec": {
   "display_name": "Python 3.8.8 ('base')",
   "language": "python",
   "name": "python3"
  },
  "language_info": {
   "codemirror_mode": {
    "name": "ipython",
    "version": 3
   },
   "file_extension": ".py",
   "mimetype": "text/x-python",
   "name": "python",
   "nbconvert_exporter": "python",
   "pygments_lexer": "ipython3",
   "version": "3.8.8"
  },
  "orig_nbformat": 4
 },
 "nbformat": 4,
 "nbformat_minor": 2
}
