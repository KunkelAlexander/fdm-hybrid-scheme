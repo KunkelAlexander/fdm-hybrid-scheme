{
 "cells": [
  {
   "cell_type": "markdown",
   "metadata": {},
   "source": [
    "# Linear Advection Equation"
   ]
  },
  {
   "cell_type": "markdown",
   "metadata": {},
   "source": [
    "Run setup cell; then run second cell to pick a scheme and to interact with the simulation."
   ]
  },
  {
   "cell_type": "markdown",
   "metadata": {},
   "source": [
    "### Setup"
   ]
  },
  {
   "cell_type": "code",
   "execution_count": 1,
   "metadata": {},
   "outputs": [],
   "source": [
    "import src.config as config \n",
    "import src.animation as animation \n",
    "import matplotlib.pyplot as plt \n",
    "import numpy as np\n",
    "\n",
    "import src.advection_schemes as advection_schemes\n",
    "import src.advection_tests as advection_tests\n",
    "\n",
    "algorithms = {\n",
    "    \"centered difference\":advection_schemes.CenteredDifferenceScheme,\n",
    "    \"upwind\": advection_schemes.UpwindScheme,\n",
    "    \"second-order upwind\": advection_schemes.SecondOrderUpwindScheme,\n",
    "    \"sou with limiter\": advection_schemes.SOLimiterScheme,\n",
    "    \"lax-wendroff\": advection_schemes.LaxWendroffScheme, \n",
    "    \"ppm\": advection_schemes.PPMScheme\n",
    "}\n",
    "\n",
    "tests = {\n",
    "    \"gaussian\": advection_tests.gaussian1D,\n",
    "    \"tophat\": advection_tests.tophat1D\n",
    "}\n",
    "\n",
    "\n",
    "def getBaseConfig():\n",
    "    c = config.generateConfig(dt=1e-4, t0=0)\n",
    "    c[\"dt\"] = 1e-3\n",
    "    c[\"domainSize\"] = 5\n",
    "    c[\"xlim\"] =  [0, 5]\n",
    "    c[\"densityYlim\"] = [0, 1.6]\n",
    "    c[\"resolution\"] = 256\n",
    "    c[\"timeOrder\"] = 1\n",
    "    c[\"stencilOrder\"] = 2\n",
    "    c[\"dimension\"] = 1\n",
    "    c[\"debug\"] = False\n",
    "    c[\"slowDown\"] = 1\n",
    "    c[\"tEnd\"] = 1\n",
    "    c[\"gravity\"] = 1\n",
    "    c[\"outputTimestep\"] = False\n",
    "    c[\"alpha\"] = 0.1\n",
    "    c[\"useAdaptiveTimestep\"] = True\n",
    "    c[\"usePeriodicBC\"] = False\n",
    "    c[\"dpi\"] = 200\n",
    "    c[\"size\"] = (3.54 * 2, 3.54)#(3.54 * 1.5, 3.54)\n",
    "    c[\"savePlots\"] = True\n",
    "    c[\"cfl\"] = 0.1\n",
    "    return c\n",
    "\n",
    "def interactive_advection_test(t, resolution, time_order, scheme, test, limiter, take_snapshot):\n",
    "    c = getBaseConfig()\n",
    "    c[\"resolution\"] = resolution\n",
    "    c[\"timeOrder\"] = time_order\n",
    "    c[\"tEnd\"] = t\n",
    "    c[\"savePlots\"] = take_snapshot\n",
    "    c[\"fluxLimiter\"] = limiter\n",
    "    c[\"plotPhase\"] = False \n",
    "    c[\"plotDebug\"] = False\n",
    "    if take_snapshot:\n",
    "        c[\"dpi\"] = 600\n",
    "        c[\"figsize\"] = [3.54 * 2, 3.54]\n",
    "    else:\n",
    "        c[\"dpi\"] = 80\n",
    "        c[\"figsize\"] = [3.54 * 2, 3.54]\n",
    "\n",
    "    solver = algorithms[scheme](c, tests[test])\n",
    "    solver.run()\n",
    "    animation.drawFrame(solver, advection=True)\n",
    "    plt.show()"
   ]
  },
  {
   "cell_type": "code",
   "execution_count": null,
   "metadata": {},
   "outputs": [],
   "source": []
  },
  {
   "cell_type": "code",
   "execution_count": null,
   "metadata": {},
   "outputs": [],
   "source": [
    "interactive_advection_test(0.1, 128, 1, \"ppm\", \"\", limiter, take_snapshot):"
   ]
  },
  {
   "cell_type": "markdown",
   "metadata": {},
   "source": []
  }
 ],
 "metadata": {
  "kernelspec": {
   "display_name": "Python 3.8.10 64-bit",
   "language": "python",
   "name": "python3"
  },
  "language_info": {
   "codemirror_mode": {
    "name": "ipython",
    "version": 3
   },
   "file_extension": ".py",
   "mimetype": "text/x-python",
   "name": "python",
   "nbconvert_exporter": "python",
   "pygments_lexer": "ipython3",
   "version": "3.8.10"
  },
  "orig_nbformat": 4,
  "vscode": {
   "interpreter": {
    "hash": "916dbcbb3f70747c44a77c7bcd40155683ae19c65e1c03b4aa3499c5328201f1"
   }
  }
 },
 "nbformat": 4,
 "nbformat_minor": 2
}
