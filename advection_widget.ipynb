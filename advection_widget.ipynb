{
 "cells": [
  {
   "cell_type": "markdown",
   "metadata": {},
   "source": [
    "# Linear Advection Equation"
   ]
  },
  {
   "cell_type": "markdown",
   "metadata": {},
   "source": [
    "Run setup cell; then run second cell to pick a scheme and to interact with the simulation."
   ]
  },
  {
   "cell_type": "markdown",
   "metadata": {},
   "source": [
    "### Setup"
   ]
  },
  {
   "cell_type": "code",
   "execution_count": 1,
   "metadata": {},
   "outputs": [],
   "source": [
    "from __future__ import print_function\n",
    "%matplotlib inline\n",
    "\n",
    "from ipywidgets import interact, interactive, fixed, interact_manual\n",
    "import ipywidgets as widgets"
   ]
  },
  {
   "cell_type": "markdown",
   "metadata": {},
   "source": [
    "### Pick a scheme\n",
    "Note that the option limiter is only valid for the second-order upwind scheme (SOU) with limiter. "
   ]
  },
  {
   "cell_type": "code",
   "execution_count": 4,
   "metadata": {},
   "outputs": [
    {
     "data": {
      "text/plain": [
       "<Figure size 640x480 with 0 Axes>"
      ]
     },
     "metadata": {},
     "output_type": "display_data"
    }
   ],
   "source": [
    "%run src/advection_test_suite.py "
   ]
  },
  {
   "cell_type": "code",
   "execution_count": 5,
   "metadata": {},
   "outputs": [],
   "source": [
    "interactive_plot = interactive(interactive_advection_test, \n",
    "t=widgets.FloatSlider(min=0, max=3, step=0.1, value=1.5), \n",
    "resolution=widgets.IntSlider(min=16, max=256, step=4, value=128), \n",
    "time_order= widgets.IntSlider(min=1, max=4, step=1, value=1),\n",
    "scheme = [\"centered difference\", \"upwind\", \"second-order upwind\", \"sou with limiter\", \"lax-wendroff\"],\n",
    "test = [\"gaussian\", \"tophat\"],\n",
    "limiter = [\n",
    "    \"DONORCELL\"  , \n",
    "    \"BEAMWARMING\",\n",
    "    \"LAXWENDROFF\",\n",
    "    \"MINMOD\"     ,\n",
    "    \"VANALBADA\"  ,   \n",
    "    \"SUPERBEE\"   ,\n",
    "    \"MC\"         ,\n",
    "    \"VANLEER\"\n",
    "],\n",
    "take_snapshot = False\n",
    ")\n",
    "output = interactive_plot.children[-1]\n",
    "output.layout.height = '500px'"
   ]
  }
 ],
 "metadata": {
  "kernelspec": {
   "display_name": "Python 3.8.10 64-bit",
   "language": "python",
   "name": "python3"
  },
  "language_info": {
   "codemirror_mode": {
    "name": "ipython",
    "version": 3
   },
   "file_extension": ".py",
   "mimetype": "text/x-python",
   "name": "python",
   "nbconvert_exporter": "python",
   "pygments_lexer": "ipython3",
   "version": "3.8.10"
  },
  "orig_nbformat": 4,
  "vscode": {
   "interpreter": {
    "hash": "916dbcbb3f70747c44a77c7bcd40155683ae19c65e1c03b4aa3499c5328201f1"
   }
  }
 },
 "nbformat": 4,
 "nbformat_minor": 2
}
