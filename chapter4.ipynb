{
 "cells": [
  {
   "cell_type": "markdown",
   "metadata": {},
   "source": [
    "# Chapter 4"
   ]
  },
  {
   "cell_type": "markdown",
   "metadata": {},
   "source": [
    "## The linear advection equation"
   ]
  },
  {
   "cell_type": "markdown",
   "metadata": {},
   "source": [
    "### A central difference scheme"
   ]
  },
  {
   "cell_type": "code",
   "execution_count": 1,
   "metadata": {},
   "outputs": [],
   "source": [
    "#Setup\n",
    "import matplotlib.pyplot as plt \n",
    "import numpy as np \n",
    "\n",
    "#Directions for np.roll\n",
    "R = -1\n",
    "L =  1"
   ]
  },
  {
   "cell_type": "code",
   "execution_count": 2,
   "metadata": {},
   "outputs": [],
   "source": [
    "@njit\n",
    "def getCenteredGradient(f, dx):\n",
    "    return (np.roll(f, R) - np.roll(f, L)) / (2*dx)\n",
    "\n",
    "#The number of grid points\n",
    "N = 100 \n",
    "#The grid size\n",
    "L = 1\n",
    "#The grid spacing\n",
    "dx = L/N \n",
    "#The propagation speed in the linear advection equation\n",
    "a = 1\n",
    "#The time step according to the CFL condition\n",
    "dt = np.abs(dx / a)\n",
    "#The grid\n",
    "xx = np.linspace(0, 1, 100)\n",
    "#The width of the Gaussian\n",
    "alpha = 0.01\n",
    "#The initial conditions\n",
    "psi = np.exp(-((xx-0.1)/alpha)**2)"
   ]
  },
  {
   "cell_type": "code",
   "execution_count": null,
   "metadata": {},
   "outputs": [],
   "source": [
    "for i in range(100):\n",
    "    xx "
   ]
  }
 ],
 "metadata": {
  "interpreter": {
   "hash": "08b1f50251748813e8e4e957e5d4f88f45c66f447650e6e648281d4af27bdb44"
  },
  "kernelspec": {
   "display_name": "Python 3.8.8 ('base')",
   "language": "python",
   "name": "python3"
  },
  "language_info": {
   "codemirror_mode": {
    "name": "ipython",
    "version": 3
   },
   "file_extension": ".py",
   "mimetype": "text/x-python",
   "name": "python",
   "nbconvert_exporter": "python",
   "pygments_lexer": "ipython3",
   "version": "3.8.8"
  },
  "orig_nbformat": 4
 },
 "nbformat": 4,
 "nbformat_minor": 2
}
