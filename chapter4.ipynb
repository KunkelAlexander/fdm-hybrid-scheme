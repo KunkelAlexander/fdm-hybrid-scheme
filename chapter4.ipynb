{
 "cells": [
  {
   "cell_type": "markdown",
   "metadata": {},
   "source": [
    "# Setup"
   ]
  },
  {
   "cell_type": "code",
   "execution_count": 3,
   "metadata": {},
   "outputs": [],
   "source": [
    "from __future__ import print_function\n",
    "from ipywidgets import interact, interactive, fixed, interact_manual\n",
    "import ipywidgets as widgets\n",
    "%matplotlib inline\n",
    "import src.advection_schemes as advection_schemes\n",
    "import src.advection_tests as advection_tests\n",
    "import src.config as config \n",
    "import src.animation as animation \n",
    "import matplotlib.pyplot as plt \n",
    "\n",
    "import numpy as np\n",
    "\n",
    "c = config.generateConfig(dt=1e-4, t0=0)\n",
    "\n",
    "def resetConfig(c):\n",
    "    c[\"dt\"] = 1e-3\n",
    "    c[\"domainSize\"] = 5\n",
    "    c[\"xlim\"] =  [0, 5]\n",
    "    c[\"densityYlim\"] = [0, 1.6]\n",
    "    c[\"resolution\"] = 256\n",
    "    c[\"timeOrder\"] = 1\n",
    "    c[\"stencilOrder\"] = 2\n",
    "    c[\"dimension\"] = 1\n",
    "    c[\"debug\"] = False\n",
    "    c[\"slowDown\"] = 1\n",
    "    c[\"tEnd\"] = 1\n",
    "    c[\"gravity\"] = 1\n",
    "    c[\"outputTimestep\"] = False\n",
    "    c[\"alpha\"] = 0.1\n",
    "    c[\"useAdaptiveTimestep\"] = True\n",
    "    c[\"usePeriodicBC\"] = False\n",
    "    c[\"dpi\"] = 200\n",
    "    c[\"size\"] = (3.54 * 2, 3.54)#(3.54 * 1.5, 3.54)\n",
    "    c[\"savePlots\"] = True\n",
    "    \n",
    "resetConfig(c)\n",
    "\n",
    "\n",
    "def run(title, scheme, c, test):\n",
    "    solver = scheme(c, test)\n",
    "    i = 0\n",
    "    while (solver.t < solver.config[\"tEnd\"]):\n",
    "        dt = solver.getTimeStep()\n",
    "        if dt + solver.t > solver.config[\"tEnd\"]:\n",
    "            dt = solver.config[\"tEnd\"] - solver.t\n",
    "        solver.step(dt)\n",
    "        i += 1\n",
    "\n",
    "    print(f\"Finished in {i} steps.\")\n",
    "    \n",
    "    animation.drawPrettyFrame(solver, advection=True)\n",
    "    plt.show()"
   ]
  },
  {
   "cell_type": "markdown",
   "metadata": {},
   "source": [
    "# Chapter 4"
   ]
  },
  {
   "cell_type": "markdown",
   "metadata": {},
   "source": [
    "## The linear advection equation"
   ]
  },
  {
   "cell_type": "code",
   "execution_count": null,
   "metadata": {},
   "outputs": [],
   "source": []
  },
  {
   "cell_type": "code",
   "execution_count": 7,
   "metadata": {},
   "outputs": [
    {
     "data": {
      "application/vnd.jupyter.widget-view+json": {
       "model_id": "94ae122d42b84df7aa292e93a1d0f76c",
       "version_major": 2,
       "version_minor": 0
      },
      "text/plain": [
       "interactive(children=(FloatSlider(value=1.5, description='t', max=3.0), IntSlider(value=128, description='reso…"
      ]
     },
     "metadata": {},
     "output_type": "display_data"
    }
   ],
   "source": [
    "algorithms = {\n",
    "    \"centered difference\":advection_schemes.CenteredDifferenceScheme,\n",
    "    \"upwind\": advection_schemes.UpwindScheme,\n",
    "    \"second-order upwind\", advection_schemes.SecondOrderUpwindScheme\n",
    "}\n",
    "\n",
    "tests = {\n",
    "    \"gaussian\": advection_tests.gaussian1D,\n",
    "    \"tophat\": advection_tests.tophat1D\n",
    "}\n",
    "\n",
    "def f(t, resolution, scheme, test, take_snapshot):\n",
    "    c[\"resolution\"] = resolution\n",
    "    c[\"tEnd\"] = t\n",
    "    c[\"savePlots\"] = take_snapshot\n",
    "    run(scheme, algorithms[scheme], c, tests[test])\n",
    "\n",
    "interactive_plot = interactive(f, \n",
    "t=widgets.FloatSlider(min=0, max=3, step=0.1, value=1.5), \n",
    "resolution=widgets.IntSlider(min=16, max=256, step=4, value=128), \n",
    "scheme = [\"centered difference\", \"upwind\", \"second-order upwind\"],\n",
    "test = [\"gaussian\", \"tophat\"],\n",
    "take_snapshot = False\n",
    ")\n",
    "output = interactive_plot.children[-1]\n",
    "output.layout.height = '500px'\n",
    "interactive_plot"
   ]
  },
  {
   "cell_type": "code",
   "execution_count": null,
   "metadata": {},
   "outputs": [],
   "source": []
  }
 ],
 "metadata": {
  "interpreter": {
   "hash": "08b1f50251748813e8e4e957e5d4f88f45c66f447650e6e648281d4af27bdb44"
  },
  "kernelspec": {
   "display_name": "Python 3.8.8 ('base')",
   "language": "python",
   "name": "python3"
  },
  "language_info": {
   "codemirror_mode": {
    "name": "ipython",
    "version": 3
   },
   "file_extension": ".py",
   "mimetype": "text/x-python",
   "name": "python",
   "nbconvert_exporter": "python",
   "pygments_lexer": "ipython3",
   "version": "3.8.8"
  },
  "orig_nbformat": 4
 },
 "nbformat": 4,
 "nbformat_minor": 2
}
