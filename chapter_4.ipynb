{
 "cells": [
  {
   "cell_type": "markdown",
   "metadata": {},
   "source": [
    "# Usage"
   ]
  },
  {
   "cell_type": "markdown",
   "metadata": {},
   "source": [
    "Run setup cell and cell below \"Chapter 4\"-heading to interactively simulate different schemes for the linear advection equation as well as the SPS. "
   ]
  },
  {
   "cell_type": "markdown",
   "metadata": {},
   "source": [
    "# Setup"
   ]
  },
  {
   "cell_type": "code",
   "execution_count": 1,
   "metadata": {},
   "outputs": [],
   "source": [
    "from __future__ import print_function\n",
    "%matplotlib inline\n",
    "\n",
    "from ipywidgets import interact, interactive, fixed, interact_manual\n",
    "import ipywidgets as widgets"
   ]
  },
  {
   "cell_type": "markdown",
   "metadata": {},
   "source": [
    "# Chapter 4"
   ]
  },
  {
   "cell_type": "markdown",
   "metadata": {},
   "source": [
    "## The linear advection equation"
   ]
  },
  {
   "cell_type": "markdown",
   "metadata": {},
   "source": [
    "Note that the option limiter is only valid for the second-order upwind scheme (SOU) with limiter. \n"
   ]
  },
  {
   "cell_type": "code",
   "execution_count": 2,
   "metadata": {},
   "outputs": [
    {
     "data": {
      "application/vnd.jupyter.widget-view+json": {
       "model_id": "cc2be3cf20ca48c1a85af83f8ede80e5",
       "version_major": 2,
       "version_minor": 0
      },
      "text/plain": [
       "interactive(children=(FloatSlider(value=1.5, description='t', max=3.0), IntSlider(value=128, description='reso…"
      ]
     },
     "metadata": {},
     "output_type": "display_data"
    }
   ],
   "source": [
    "%run src/advection_test_suite.py \n",
    "\n",
    "interactive_plot = interactive(interactive_advection_test, \n",
    "t=widgets.FloatSlider(min=0, max=3, step=0.1, value=1.5), \n",
    "resolution=widgets.IntSlider(min=16, max=256, step=4, value=128), \n",
    "time_order= widgets.IntSlider(min=1, max=4, step=1, value=1),\n",
    "scheme = [\"centered difference\", \"upwind\", \"second-order upwind\", \"sou with limiter\", \"lax-wendroff\"],\n",
    "test = [\"gaussian\", \"tophat\"],\n",
    "limiter = [\n",
    "    \"DONORCELL\"  , \n",
    "    \"BEAMWARMING\",\n",
    "    \"LAXWENDROFF\",\n",
    "    \"MINMOD\"     ,\n",
    "    \"VANALBADA\"  ,   \n",
    "    \"SUPERBEE\"   ,\n",
    "    \"MC\"         ,\n",
    "    \"VANLEER\"\n",
    "],\n",
    "take_snapshot = False\n",
    ")\n",
    "output = interactive_plot.children[-1]\n",
    "output.layout.height = '500px'\n",
    "interactive_plot"
   ]
  },
  {
   "cell_type": "markdown",
   "metadata": {},
   "source": [
    "## The phase scheme"
   ]
  },
  {
   "cell_type": "code",
   "execution_count": 2,
   "metadata": {},
   "outputs": [
    {
     "data": {
      "application/vnd.jupyter.widget-view+json": {
       "model_id": "3669a7cff9694ff09107e47b9845e159",
       "version_major": 2,
       "version_minor": 0
      },
      "text/plain": [
       "interactive(children=(Dropdown(description='scheme_name', options=('phase scheme', 'phase scheme without quant…"
      ]
     },
     "metadata": {},
     "output_type": "display_data"
    }
   ],
   "source": [
    "%run src/sps_test_suite.py\n",
    "\n",
    "def pick_scheme(scheme_name, test_name, resolution, eta):\n",
    "    c = getBaseConfig()\n",
    "    test, testConfig, potential = test_list[nice_test_list[test_name]]\n",
    "    scheme, schemeConfig = scheme_list[nice_scheme_list[scheme_name]]\n",
    "    schemeConfig(c)\n",
    "    testConfig(c)\n",
    "\n",
    "    c[\"resolution\"] = int(c[\"resolution\"] * resolution)\n",
    "    c[\"dpi\"] = 200\n",
    "    c[\"figsize\"] = [3.54, 2.54]\n",
    "    c[\"plotDebug\"] = False\n",
    "    c[\"hbar\"] = eta \n",
    "    c[\"m\"] = 1\n",
    "\n",
    "    solver = scheme(c, test)\n",
    "    solver.setExternalPotentialFunction(potential)\n",
    "    return scheme_name, test_name, solver \n",
    "\n",
    "\n",
    "scheme_picker = interactive(pick_scheme, \n",
    "scheme_name = nice_scheme_list.keys(),\n",
    "test_name = nice_test_list.keys(),\n",
    "resolution = widgets.FloatSlider(min=.1, max=4, step=.1, value=1),\n",
    "eta = widgets.FloatSlider(min=.25, max=4, step=.05, value=1)\n",
    ")\n",
    "scheme_picker"
   ]
  },
  {
   "cell_type": "code",
   "execution_count": 4,
   "metadata": {},
   "outputs": [
    {
     "data": {
      "application/vnd.jupyter.widget-view+json": {
       "model_id": "ee6ec0e236604cb4b9703c2c466a7a98",
       "version_major": 2,
       "version_minor": 0
      },
      "text/plain": [
       "interactive(children=(FloatSlider(value=0.0, description='t', step=1.0), Checkbox(value=False, description='ta…"
      ]
     },
     "metadata": {},
     "output_type": "display_data"
    }
   ],
   "source": [
    "\n",
    "def run(t, take_snapshot, back_in_time, reset, useAdaptiveTimestep, dt):\n",
    "    sname, tname, solver = scheme_picker.result\n",
    "    if reset:\n",
    "        scheme_picker.result = pick_scheme(sname, tname, 1, solver.eta)\n",
    "        sname, tname, solver = scheme_picker.result\n",
    "\n",
    "    solver.tEnd = solver.config[\"tEnd\"] * t/100\n",
    "    solver.config[\"savePlots\"] = take_snapshot\n",
    "    solver.useAdaptiveTimestep = useAdaptiveTimestep\n",
    "    solver.dt = dt\n",
    "\n",
    "    if take_snapshot:\n",
    "        solver.config[\"dpi\"] = 600\n",
    "    else:\n",
    "        solver.config[\"dpi\"] = 100\n",
    "\n",
    "    solver.run(enableBackward=back_in_time)\n",
    "    animation.drawFrame(solver)\n",
    "    plt.show()\n",
    "\n",
    "\n",
    "interactive_plot= interactive(run,\n",
    "t=widgets.FloatSlider(min=0, max=100, step=1, value=0), \n",
    "take_snapshot = False,\n",
    "back_in_time = False,\n",
    "reset = False,\n",
    "useAdaptiveTimestep = True,\n",
    "dt = widgets.FloatLogSlider(min=-5, max=-2, step=1e-5, value=1e-4)\n",
    ")\n",
    "\n",
    "output = interactive_plot.children[-1]\n",
    "output.layout.height = '500px'\n",
    "interactive_plot"
   ]
  },
  {
   "cell_type": "code",
   "execution_count": null,
   "metadata": {},
   "outputs": [],
   "source": []
  }
 ],
 "metadata": {
  "interpreter": {
   "hash": "08b1f50251748813e8e4e957e5d4f88f45c66f447650e6e648281d4af27bdb44"
  },
  "kernelspec": {
   "display_name": "Python 3.8.8 ('base')",
   "language": "python",
   "name": "python3"
  },
  "language_info": {
   "codemirror_mode": {
    "name": "ipython",
    "version": 3
   },
   "file_extension": ".py",
   "mimetype": "text/x-python",
   "name": "python",
   "nbconvert_exporter": "python",
   "pygments_lexer": "ipython3",
   "version": "3.8.8"
  },
  "orig_nbformat": 4
 },
 "nbformat": 4,
 "nbformat_minor": 2
}
